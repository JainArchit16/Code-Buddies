{
 "cells": [
  {
   "cell_type": "code",
   "execution_count": 26,
   "id": "21ee5f8f",
   "metadata": {},
   "outputs": [],
   "source": [
    "from zipfile import ZipFile"
   ]
  },
  {
   "cell_type": "code",
   "execution_count": 31,
   "id": "bd89cad5",
   "metadata": {},
   "outputs": [
    {
     "name": "stdout",
     "output_type": "stream",
     "text": [
      " Volume in drive C is OS\n",
      " Volume Serial Number is E641-77AD\n",
      "\n",
      " Directory of C:\\Users\\bhand\\OneDrive\\Desktop\\Deep Learning\\Google-SOL\n",
      "\n",
      "14-01-2024  20:34    <DIR>          .\n",
      "14-01-2024  16:01    <DIR>          ..\n",
      "14-01-2024  15:43    <DIR>          .ipynb_checkpoints\n",
      "14-01-2024  20:32    <DIR>          accident images\n",
      "14-01-2024  15:47    <DIR>          Accident Images Analysis Dataset\n",
      "14-01-2024  15:39         9,684,718 Accident Images Analysis Dataset.rar\n",
      "14-01-2024  15:59        33,141,230 accident images.zip\n",
      "14-01-2024  20:34        23,300,547 car images.zip\n",
      "14-01-2024  20:31             3,549 Untitled.ipynb\n",
      "               4 File(s)     66,130,044 bytes\n",
      "               5 Dir(s)  207,973,588,992 bytes free\n"
     ]
    }
   ],
   "source": [
    "ls"
   ]
  },
  {
   "cell_type": "code",
   "execution_count": 23,
   "id": "48a50853",
   "metadata": {},
   "outputs": [],
   "source": [
    "with ZipFile(\"accident images.zip\", \"r\") as file:\n",
    "    file.extractall(path=\"accident images\")"
   ]
  },
  {
   "cell_type": "code",
   "execution_count": 30,
   "id": "875b257c",
   "metadata": {
    "scrolled": true
   },
   "outputs": [
    {
     "name": "stdout",
     "output_type": "stream",
     "text": [
      " Volume in drive C is OS\n",
      " Volume Serial Number is E641-77AD\n",
      "\n",
      " Directory of C:\\Users\\bhand\\OneDrive\\Desktop\\Deep Learning\\Google-SOL\n",
      "\n",
      "14-01-2024  20:27    <DIR>          .\n",
      "14-01-2024  16:01    <DIR>          ..\n",
      "14-01-2024  15:43    <DIR>          .ipynb_checkpoints\n",
      "14-01-2024  16:04    <DIR>          accident images\n",
      "14-01-2024  15:47    <DIR>          Accident Images Analysis Dataset\n",
      "14-01-2024  15:39         9,684,718 Accident Images Analysis Dataset.rar\n",
      "14-01-2024  15:59        33,141,230 accident images.zip\n",
      "14-01-2024  20:27             3,549 Untitled.ipynb\n",
      "               3 File(s)     42,829,497 bytes\n",
      "               5 Dir(s)  207,850,819,584 bytes free\n"
     ]
    }
   ],
   "source": [
    "ls"
   ]
  },
  {
   "cell_type": "code",
   "execution_count": null,
   "id": "b1105b69",
   "metadata": {},
   "outputs": [],
   "source": [
    "import os\n",
    "\n",
    "def get_file_size(file_path):\n",
    "    # Check if the file exists\n",
    "    if os.path.exists(file_path):\n",
    "        # Get the size of the file in bytes\n",
    "        size_bytes = os.path.getsize(file_path)\n",
    "        \n",
    "        # Convert bytes to a human-readable format (e.g., KB, MB, GB)\n",
    "        size_kb = size_bytes / 1024.0\n",
    "        size_mb = size_kb / 1024.0\n",
    "        size_gb = size_mb / 1024.0\n",
    "\n",
    "        # Return the size in different units\n",
    "        return size_bytes, size_kb, size_mb, size_gb\n",
    "    else:\n",
    "        return None\n",
    "\n",
    "# Example usage\n",
    "file_path = 'path/to/your/file.txt'\n",
    "file_size = get_file_size(file_path)\n",
    "\n",
    "if file_size is not None:\n",
    "    print(f\"File Size (Bytes): {file_size[0]}\")\n",
    "    print(f\"File Size (KB): {file_size[1]:.2f} KB\")\n",
    "    print(f\"File Size (MB): {file_size[2]:.2f} MB\")\n",
    "    print(f\"File Size (GB): {file_size[3]:.2f} GB\")\n",
    "else:\n",
    "    print(\"File not found.\")\n"
   ]
  }
 ],
 "metadata": {
  "kernelspec": {
   "display_name": "Python 3 (ipykernel)",
   "language": "python",
   "name": "python3"
  },
  "language_info": {
   "codemirror_mode": {
    "name": "ipython",
    "version": 3
   },
   "file_extension": ".py",
   "mimetype": "text/x-python",
   "name": "python",
   "nbconvert_exporter": "python",
   "pygments_lexer": "ipython3",
   "version": "3.11.5"
  }
 },
 "nbformat": 4,
 "nbformat_minor": 5
}
